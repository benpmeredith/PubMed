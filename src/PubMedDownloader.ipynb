{
 "cells": [
  {
   "cell_type": "markdown",
   "metadata": {},
   "source": [
    "# PubMed Downloader\n",
    "\n",
    "This code downloads data from pubmed and stores it in a csv file based on search terms.  PubMed serves as a centralized database to identify most medical studies that exist and can help in identifying relevant research on different topics.\n",
    "\n",
    "Some information and relevant links include:\n",
    "- https://www.ncbi.nlm.nih.gov/pmc/tools/developers/\n",
    "- https://www.nlm.nih.gov/databases/download/data_distrib_main.html\n",
    "- https://www.ncbi.nlm.nih.gov/books/NBK25499/#chapter4.ESearch \n",
    "- https://nces.ed.gov/programs/crimeindicators/ind_06.asp \n",
    "\n",
    "Author:  Natalie Chun (17 November 2018)"
   ]
  },
  {
   "cell_type": "code",
   "execution_count": 1,
   "metadata": {},
   "outputs": [],
   "source": [
    "from pubmeddownloader import PubMedDownloader\n",
    "import pandas as pd\n",
    "import numpy as np\n",
    "import matplotlib.pyplot as plt\n",
    "import xml.etree.cElementTree as ET\n",
    "%matplotlib inline"
   ]
  },
  {
   "cell_type": "markdown",
   "metadata": {},
   "source": [
    "## Download new data"
   ]
  },
  {
   "cell_type": "code",
   "execution_count": 2,
   "metadata": {},
   "outputs": [
    {
     "name": "stdout",
     "output_type": "stream",
     "text": [
      "Keyword terms to search: ['rude', 'poor grades', 'overly active', 'making threats', 'overreaction to changes ', 'school bullying', 'intimidation', 'school shooting', 'at-risk behavior', 'threatening ', 'passive aggressive ', 'low self-esteem', 'domineering', 'disruptive talking', 'scapegoating', 'isolating others', 'drug use', 'school violence', 'laughing at inappropriate times', 'self-harm', 'overly assertive', 'high-risk behavior', 'belittling others ', 'mood swings', 'explosive anger', 'sexual harassment', 'shaming', 'depressive ', 'sabotage', 'weapons use', 'school safety', 'school security', 'vandalism', 'forced sexual contact', 'dishonesty', 'panics', 'panic attacks', 'verbal bullying', 'student suicide', 'fighting', 'cyber-bullying', 'aggressive', 'stealing', 'gang activities']\n",
      "[('searchterms',), ('pubmeddata',)]\n",
      "Entries in table searchterms: 1435\n",
      "       pmid       searchterm\n",
      "0  30505809  school violence\n",
      "1  30477247  school violence\n",
      "2  30391140  school violence\n",
      "3  30379110  school violence\n",
      "4  30353840  school violence\n",
      "Entries in table pubmeddata: 986\n",
      "     pmid pubmedarticleset pubmedarticle medlinecitation daterevised  year  \\\n",
      "0  213573                                                             1978   \n",
      "1  259410                                                             1979   \n",
      "2  289528                                                             1978   \n",
      "3  472838                                                             1979   \n",
      "4  511995                                                             1979   \n",
      "\n",
      "   month  day article journal    ...    nlmuniqueid issnlinking pubmeddata  \\\n",
      "0      3    1                    ...         141401   0360-5973              \n",
      "1      1    1                    ...        9870008                          \n",
      "2      4    1                    ...         253341   0011-8680              \n",
      "3      9    1                    ...         404522   0038-4348              \n",
      "4     10    1                    ...         217132   0021-9762              \n",
      "\n",
      "  history pubmedpubdate hour minute publicationstatus articleidlist articleid  \n",
      "0                          0      0          ppublish                  213573  \n",
      "1                          0      0          ppublish                  259410  \n",
      "2                          0      0          ppublish                  289528  \n",
      "3                          0      0          ppublish                  472838  \n",
      "4                          0      0          ppublish                  511995  \n",
      "\n",
      "[5 rows x 43 columns]\n",
      "Downloading: rude\n",
      "Number of new articles to query for search term rude: 2285\n",
      "Number of summaries downloaded: 0\n"
     ]
    },
    {
     "ename": "KeyboardInterrupt",
     "evalue": "",
     "output_type": "error",
     "traceback": [
      "\u001b[1;31m---------------------------------------------------------------------------\u001b[0m",
      "\u001b[1;31mKeyboardInterrupt\u001b[0m                         Traceback (most recent call last)",
      "\u001b[1;32m<ipython-input-2-19bc3a8866e3>\u001b[0m in \u001b[0;36m<module>\u001b[1;34m()\u001b[0m\n\u001b[0;32m     13\u001b[0m     \u001b[0mpm\u001b[0m\u001b[1;33m.\u001b[0m\u001b[0mclean_xml_abstract_page\u001b[0m\u001b[1;33m(\u001b[0m\u001b[1;36m30439779\u001b[0m\u001b[1;33m)\u001b[0m\u001b[1;33m\u001b[0m\u001b[0m\n\u001b[0;32m     14\u001b[0m \u001b[1;32melse\u001b[0m\u001b[1;33m:\u001b[0m\u001b[1;33m\u001b[0m\u001b[0m\n\u001b[1;32m---> 15\u001b[1;33m     \u001b[0mpm\u001b[0m\u001b[1;33m.\u001b[0m\u001b[0mrun_all_kws\u001b[0m\u001b[1;33m(\u001b[0m\u001b[1;33m)\u001b[0m\u001b[1;33m\u001b[0m\u001b[0m\n\u001b[0m",
      "\u001b[1;32mC:\\Work\\NoSchoolViolence\\PubMed\\src\\pubmeddownloader.py\u001b[0m in \u001b[0;36mrun_all_kws\u001b[1;34m(self)\u001b[0m\n\u001b[0;32m    240\u001b[0m             \u001b[1;32mif\u001b[0m \u001b[0mself\u001b[0m\u001b[1;33m.\u001b[0m\u001b[0mdebug\u001b[0m \u001b[1;32mand\u001b[0m \u001b[0mi\u001b[0m \u001b[1;33m>\u001b[0m \u001b[1;36m0\u001b[0m\u001b[1;33m:\u001b[0m\u001b[1;33m\u001b[0m\u001b[0m\n\u001b[0;32m    241\u001b[0m                 \u001b[1;32mbreak\u001b[0m\u001b[1;33m\u001b[0m\u001b[0m\n\u001b[1;32m--> 242\u001b[1;33m             \u001b[0mself\u001b[0m\u001b[1;33m.\u001b[0m\u001b[0msearch_entrez\u001b[0m\u001b[1;33m(\u001b[0m\u001b[0mkw\u001b[0m\u001b[1;33m,\u001b[0m \u001b[0mnumsearch\u001b[0m\u001b[1;33m)\u001b[0m\u001b[1;33m\u001b[0m\u001b[0m\n\u001b[0m\u001b[0;32m    243\u001b[0m         \u001b[0mself\u001b[0m\u001b[1;33m.\u001b[0m\u001b[0m_display_db_tables\u001b[0m\u001b[1;33m(\u001b[0m\u001b[1;33m)\u001b[0m\u001b[1;33m\u001b[0m\u001b[0m\n\u001b[0;32m    244\u001b[0m         \u001b[0mself\u001b[0m\u001b[1;33m.\u001b[0m\u001b[0m_export_csv_data\u001b[0m\u001b[1;33m(\u001b[0m\u001b[1;33m)\u001b[0m\u001b[1;33m\u001b[0m\u001b[0m\n",
      "\u001b[1;32mC:\\Work\\NoSchoolViolence\\PubMed\\src\\pubmeddownloader.py\u001b[0m in \u001b[0;36msearch_entrez\u001b[1;34m(self, searchterm, retmax)\u001b[0m\n\u001b[0;32m    169\u001b[0m             \u001b[0mself\u001b[0m\u001b[1;33m.\u001b[0m\u001b[0mcursor\u001b[0m\u001b[1;33m.\u001b[0m\u001b[0mexecute\u001b[0m\u001b[1;33m(\u001b[0m\u001b[0mquery\u001b[0m\u001b[1;33m,\u001b[0m \u001b[0mcoldata\u001b[0m\u001b[1;33m)\u001b[0m\u001b[1;33m\u001b[0m\u001b[0m\n\u001b[0;32m    170\u001b[0m             \u001b[0mself\u001b[0m\u001b[1;33m.\u001b[0m\u001b[0mconn\u001b[0m\u001b[1;33m.\u001b[0m\u001b[0mcommit\u001b[0m\u001b[1;33m(\u001b[0m\u001b[1;33m)\u001b[0m\u001b[1;33m\u001b[0m\u001b[0m\n\u001b[1;32m--> 171\u001b[1;33m             \u001b[0mtime\u001b[0m\u001b[1;33m.\u001b[0m\u001b[0msleep\u001b[0m\u001b[1;33m(\u001b[0m\u001b[1;36m3\u001b[0m\u001b[1;33m)\u001b[0m\u001b[1;33m\u001b[0m\u001b[0m\n\u001b[0m\u001b[0;32m    172\u001b[0m \u001b[1;33m\u001b[0m\u001b[0m\n\u001b[0;32m    173\u001b[0m     \u001b[1;32mdef\u001b[0m \u001b[0mclean_xml_abstract_page2\u001b[0m\u001b[1;33m(\u001b[0m\u001b[0mself\u001b[0m\u001b[1;33m,\u001b[0m \u001b[0muid\u001b[0m\u001b[1;33m)\u001b[0m\u001b[1;33m:\u001b[0m\u001b[1;33m\u001b[0m\u001b[0m\n",
      "\u001b[1;31mKeyboardInterrupt\u001b[0m: "
     ]
    }
   ],
   "source": [
    "# Number of return items\n",
    "debug = False\n",
    "runexamples = False\n",
    "pm = PubMedDownloader(debug=debug)\n",
    "if runexamples and debug:\n",
    "    # Term to be searched in pubmed\n",
    "    searchterm = 'school violence'\n",
    "    pm._display_db_tables()\n",
    "    pm.search_entrez(searchterm)\n",
    "    pm.search_page(searchterm)\n",
    "    pm.download_entrez_summary(30439779)\n",
    "    pm.get_abstract(30439779)\n",
    "    pm.clean_xml_abstract_page(30439779)\n",
    "else:\n",
    "    pm.run_all_kws()\n"
   ]
  },
  {
   "cell_type": "code",
   "execution_count": 3,
   "metadata": {},
   "outputs": [
    {
     "name": "stdout",
     "output_type": "stream",
     "text": [
      "searchterm\n",
      "explosive anger          22\n",
      "passive aggressive      341\n",
      "rude                    854\n",
      "school violence          20\n",
      "stealing               1000\n",
      "verbal bullying          52\n",
      "Name: cnt, dtype: int64\n"
     ]
    },
    {
     "data": {
      "image/png": "[encoded data removed]",
      "text/plain": [
       "<Figure size 576x720 with 1 Axes>"
      ]
     },
     "metadata": {},
     "output_type": "display_data"
    }
   ],
   "source": [
    "pm.graph_searchterms()"
   ]
  },
  {
   "cell_type": "code",
   "execution_count": null,
   "metadata": {},
   "outputs": [],
   "source": []
  },
  {
   "cell_type": "code",
   "execution_count": null,
   "metadata": {},
   "outputs": [],
   "source": []
  },
  {
   "cell_type": "code",
   "execution_count": null,
   "metadata": {},
   "outputs": [],
   "source": []
  }
 ],
 "metadata": {
  "kernelspec": {
   "display_name": "Python 3",
   "language": "python",
   "name": "python3"
  },
  "language_info": {
   "codemirror_mode": {
    "name": "ipython",
    "version": 3
   },
   "file_extension": ".py",
   "mimetype": "text/x-python",
   "name": "python",
   "nbconvert_exporter": "python",
   "pygments_lexer": "ipython3",
   "version": "3.6.5"
  }
 },
 "nbformat": 4,
 "nbformat_minor": 2
}
